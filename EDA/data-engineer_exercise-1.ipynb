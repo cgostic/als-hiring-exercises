{
 "cells": [
  {
   "cell_type": "markdown",
   "metadata": {},
   "source": [
    "# Data Engineer Exercise 1\n",
    "\n",
    "The following code outlines the creation of the `src/data-engineer_exercise-1.py` script that creates\n",
    "the `results/people.csv` data set."
   ]
  },
  {
   "cell_type": "code",
   "execution_count": 1,
   "metadata": {},
   "outputs": [],
   "source": [
    "import pandas as pd\n",
    "import datetime as dt\n",
    "\n",
    "pd.options.mode.chained_assignment = None"
   ]
  },
  {
   "cell_type": "markdown",
   "metadata": {},
   "source": [
    "### Read in the data sources and view columns from each."
   ]
  },
  {
   "cell_type": "code",
   "execution_count": 3,
   "metadata": {},
   "outputs": [],
   "source": [
    "# Read in data sources:\n",
    "# Constituent data\n",
    "cons_data = pd.read_csv(r'https://als-hiring.s3.amazonaws.com'\n",
    "                        r'/fake_data/2020-07-01_17%3A11%3A00/cons.csv')\n",
    "# Constituent e-mail data\n",
    "email_data = pd.read_csv(r'https://als-hiring.s3.amazonaws.com'\n",
    "                         r'/fake_data/2020-07-01_17%3A11%3A00/cons_email.csv')\n",
    "# Constituent subscription data\n",
    "sub_data = pd.read_csv(r'https://als-hiring.s3.amazonaws.com'\n",
    "                       r'/fake_data/2020-07-01_17%3A11%3A00/'\n",
    "                       r'cons_email_chapter_subscription.csv')"
   ]
  },
  {
   "cell_type": "code",
   "execution_count": 123,
   "metadata": {},
   "outputs": [
    {
     "data": {
      "text/plain": [
       "Index(['cons_id', 'prefix', 'firstname', 'middlename', 'lastname', 'suffix',\n",
       "       'salutation', 'gender', 'birth_dt', 'title', 'employer', 'occupation',\n",
       "       'income', 'source', 'subsource', 'userid', 'password', 'is_validated',\n",
       "       'is_banned', 'change_password_next_login', 'consent_type_id',\n",
       "       'create_dt', 'create_app', 'create_user', 'modified_dt', 'modified_app',\n",
       "       'modified_user', 'status', 'note'],\n",
       "      dtype='object')"
      ]
     },
     "execution_count": 123,
     "metadata": {},
     "output_type": "execute_result"
    }
   ],
   "source": [
    "# cons_data columns:\n",
    "cons_data.columns"
   ]
  },
  {
   "cell_type": "code",
   "execution_count": 124,
   "metadata": {},
   "outputs": [
    {
     "data": {
      "text/plain": [
       "Index(['cons_email_id', 'cons_id', 'cons_email_type_id', 'is_primary', 'email',\n",
       "       'canonical_local_part', 'domain', 'double_validation', 'create_dt',\n",
       "       'create_app', 'create_user', 'modified_dt', 'modified_app',\n",
       "       'modified_user', 'status', 'note'],\n",
       "      dtype='object')"
      ]
     },
     "execution_count": 124,
     "metadata": {},
     "output_type": "execute_result"
    }
   ],
   "source": [
    "# cons_data columns:\n",
    "email_data.columns"
   ]
  },
  {
   "cell_type": "code",
   "execution_count": 125,
   "metadata": {},
   "outputs": [
    {
     "data": {
      "text/plain": [
       "Index(['cons_email_chapter_subscription_id', 'cons_email_id', 'chapter_id',\n",
       "       'isunsub', 'unsub_dt', 'modified_dt'],\n",
       "      dtype='object')"
      ]
     },
     "execution_count": 125,
     "metadata": {},
     "output_type": "execute_result"
    }
   ],
   "source": [
    "# sub_data columns:\n",
    "sub_data.columns"
   ]
  },
  {
   "cell_type": "markdown",
   "metadata": {},
   "source": [
    "### Assumptions and Plan\n",
    "\n",
    "This script assumes that this instruction...\n",
    "\n",
    ">We only care about subscription statuses where chapter_id is 1.\n",
    "\n",
    "...indicates that constituents in chapters other than chapter one should not be included in the final table.\n",
    "\n",
    "**To create the final data product, necessary columns include:**\n",
    "\n",
    "From the constituent data:\n",
    "\n",
    "- `source`\n",
    "- `cons_id` -- for merging\n",
    "- `created_dt`\n",
    "- `modified_dt` \n",
    "\n",
    "From the e-mail data:\n",
    "\n",
    "- `email`\n",
    "    - `is_primary == 1`\n",
    "- `cons_email_id` -- for merging\n",
    "- `created_dt`\n",
    "- `modified_dt` \n",
    "    \n",
    "From the subscription data:\n",
    "\n",
    "- `isunsub`\n",
    "    - `chapter_id == 1`\n",
    "- `cons_email_id` -- for merging\n",
    "- `created_dt`\n",
    "- `modified_dt` \n",
    "    \n",
    "**Join keys:**\n",
    "\n",
    "`cons_data` can be merged with `email_data` on `cons_id`, assuming that this id is unique to a constituent.\n",
    "\n",
    "`email_data` can be merged with `sub_data` on `cons_email_id`, assuming that this id is unique to a constituent.\n",
    "\n",
    "Checks on these assumptions are shown below:"
   ]
  },
  {
   "cell_type": "code",
   "execution_count": 126,
   "metadata": {},
   "outputs": [],
   "source": [
    "# Check that each constituent id in the cons_data table appears only once (is unique):\n",
    "assert all(cons_data.cons_id.value_counts().values == 1), \\\n",
    "\"cons_id is not unique in the cons_data table\"\n",
    "\n",
    "# Check that each email_id in the email_data table appears only once (is unique):\n",
    "assert all(email_data.cons_email_id.value_counts().values == 1), \\\n",
    "\"cons_email_id is not unique in the email_data table\"\n"
   ]
  },
  {
   "cell_type": "markdown",
   "metadata": {},
   "source": [
    "## Filter data to specified restrictions:\n",
    "\n",
    "- Relevant columns listed above for each dataframe\n",
    "- Only primary e-mail addresses\n",
    "- Only chapter 1 subscriptions"
   ]
  },
  {
   "cell_type": "code",
   "execution_count": 127,
   "metadata": {},
   "outputs": [],
   "source": [
    "# Relevant columns for each dataframe\n",
    "cons_cols = ['cons_id', 'source', 'create_dt', 'modified_dt']\n",
    "email_cols = ['cons_id', 'cons_email_id', 'email', 'create_dt', 'modified_dt']\n",
    "sub_cols = ['cons_email_id', 'isunsub', 'chapter_id', 'modified_dt']\n",
    "\n",
    "# Drop irrelevant columns from constituent data\n",
    "cons_data_filtered = cons_data.drop(columns = [col for col in cons_data.columns\n",
    "                                              if col not in cons_cols])\n",
    "\n",
    "# Filter e-mail data to primary address and drop irrelevant columns\n",
    "email_data_filtered = (email_data[email_data.is_primary == 1]\n",
    "                       .drop(columns = [col for col in \n",
    "                                        email_data.columns \n",
    "                                        if col not in email_cols]))\n",
    "\n",
    "# Filter e-mail data to primary address and drop irrelevant columns\n",
    "email_data_filtered = (email_data[email_data.is_primary == 1]\n",
    "                       .drop(columns = [col for col in \n",
    "                                        email_data.columns \n",
    "                                        if col not in email_cols]))\n",
    "\n",
    "\n",
    "# Filter subscription data to chapter 1 and drop irrelevant columns\n",
    "sub_data_filtered = (sub_data[sub_data.chapter_id == 1]\n",
    "                     .drop(columns = [col for col in \n",
    "                                     sub_data.columns\n",
    "                                     if col not in sub_cols]))"
   ]
  },
  {
   "cell_type": "code",
   "execution_count": 128,
   "metadata": {},
   "outputs": [],
   "source": [
    "# Check that all non-primary emails were removed\n",
    "assert (email_data[email_data.is_primary == 0].shape[0] == \n",
    "        email_data.shape[0] - email_data_filtered.shape[0]), \\\n",
    "\"All rows with non-primary emails should be removed\"\n",
    "\n",
    "# Check that each constituent has only 1 primary email\n",
    "assert (all(email_data_filtered.cons_id.value_counts() == 1)), \\\n",
    "\"Some constituents have more than one primary email\""
   ]
  },
  {
   "cell_type": "markdown",
   "metadata": {},
   "source": [
    "## Merge dataframes\n",
    "\n",
    "Join `cons_data` and `email_data` on the column `cons_id`. Perform an inner-join because constituents without recorded email addresses will not have any information in the subscription data. Therefore, there is no use to keeping them in the final table."
   ]
  },
  {
   "cell_type": "code",
   "execution_count": 129,
   "metadata": {},
   "outputs": [],
   "source": [
    "cons_email = pd.merge(cons_data_filtered, email_data_filtered, on='cons_id', how='right')"
   ]
  },
  {
   "cell_type": "markdown",
   "metadata": {},
   "source": [
    "Next, join the subscription data to the merged cons/email dataframe. This will be a left join since we're assuming that email addresses that do not appear in the subscription data are still subscribed."
   ]
  },
  {
   "cell_type": "code",
   "execution_count": 130,
   "metadata": {},
   "outputs": [],
   "source": [
    "crm_df = pd.merge(cons_email, sub_data_filtered, on = 'cons_email_id', how='left')"
   ]
  },
  {
   "cell_type": "markdown",
   "metadata": {},
   "source": [
    "## Determine `created_dt` and `updated_df`\n",
    "\n",
    "Next, we'll find the create date and modified date for each constituent. \n",
    "\n",
    "- `create_dt` will be the minimum value (earliest timestamp) from the constituent and email data sets.\n",
    "- `modified_dt` will by the maximum value (latest timestamp) from the constituent, email, and subscription data sets."
   ]
  },
  {
   "cell_type": "code",
   "execution_count": 133,
   "metadata": {},
   "outputs": [],
   "source": [
    "crm_df[['create_dt_x', 'create_dt_y',\n",
    "       'modified_dt_x', 'modified_dt_y', 'modified_dt']] = \\\n",
    "    (crm_df[['create_dt_x', 'create_dt_y',\n",
    "            'modified_dt_x', 'modified_dt_y', 'modified_dt']]\n",
    "     .apply(lambda x: pd.to_datetime(x, \n",
    "                                     format = '%a, %Y-%m-%d %H:%M:%S'),\n",
    "            axis = 1))"
   ]
  },
  {
   "cell_type": "code",
   "execution_count": 134,
   "metadata": {},
   "outputs": [],
   "source": [
    "crm_df['created_dt'] = crm_df[['create_dt_x', 'create_dt_y']].min(axis = 1)\n",
    "crm_df['updated_dt'] = crm_df[['create_dt_x', 'create_dt_y']].min(axis = 1)"
   ]
  },
  {
   "cell_type": "markdown",
   "metadata": {},
   "source": [
    "## Final Adjustments"
   ]
  },
  {
   "cell_type": "code",
   "execution_count": 135,
   "metadata": {},
   "outputs": [],
   "source": [
    "# Emails that are not included in the subscription data are assumed to be subscribed\n",
    "crm_df['isunsub'] = crm_df['isunsub'].fillna(0.0)"
   ]
  },
  {
   "cell_type": "code",
   "execution_count": 136,
   "metadata": {},
   "outputs": [],
   "source": [
    "# Drop extraneous columns\n",
    "crm_df = crm_df.drop(columns = ['create_dt_x', 'create_dt_y', 'modified_dt_x', \n",
    "                                'modified_dt_y', 'modified_dt', 'cons_id', \n",
    "                                'cons_email_id', 'chapter_id'])"
   ]
  },
  {
   "cell_type": "markdown",
   "metadata": {},
   "source": [
    "## Export to csv"
   ]
  },
  {
   "cell_type": "code",
   "execution_count": 138,
   "metadata": {},
   "outputs": [],
   "source": [
    "crm_df.to_csv('../results/people.csv', header=crm_df.columns.tolist(), index=False)"
   ]
  }
 ],
 "metadata": {
  "kernelspec": {
   "display_name": "Python 3",
   "language": "python",
   "name": "python3"
  },
  "language_info": {
   "codemirror_mode": {
    "name": "ipython",
    "version": 3
   },
   "file_extension": ".py",
   "mimetype": "text/x-python",
   "name": "python",
   "nbconvert_exporter": "python",
   "pygments_lexer": "ipython3",
   "version": "3.7.6"
  }
 },
 "nbformat": 4,
 "nbformat_minor": 4
}
