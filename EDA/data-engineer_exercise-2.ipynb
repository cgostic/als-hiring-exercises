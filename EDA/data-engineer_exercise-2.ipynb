{
 "cells": [
  {
   "cell_type": "markdown",
   "metadata": {},
   "source": [
    "# Data Engineer Exercise 2\n",
    "\n",
    "The following code outlines the creation of the `src/data-engineer_exercise-2.py` script that creates\n",
    "the `results/acquisition_facts.csv` data set.\n",
    "\n",
    "Data from the `results/people.csv` file are used as input to this script."
   ]
  },
  {
   "cell_type": "code",
   "execution_count": 19,
   "metadata": {},
   "outputs": [],
   "source": [
    "import pandas as pd\n",
    "import datetime as dt"
   ]
  },
  {
   "cell_type": "markdown",
   "metadata": {},
   "source": [
    "## Read in data sources"
   ]
  },
  {
   "cell_type": "code",
   "execution_count": 20,
   "metadata": {},
   "outputs": [],
   "source": [
    "people_data = pd.read_csv('../results/people.csv', parse_dates=['created_dt'])"
   ]
  },
  {
   "cell_type": "markdown",
   "metadata": {},
   "source": [
    "## Assumptions\n",
    "\n",
    "- Date of acquisition is the date that the constituent's record was first created (`create_dt`)"
   ]
  },
  {
   "cell_type": "markdown",
   "metadata": {},
   "source": [
    "## Group data sources by day"
   ]
  },
  {
   "cell_type": "markdown",
   "metadata": {},
   "source": [
    "We only need the year, month and day of the `create_dt` timestamp."
   ]
  },
  {
   "cell_type": "code",
   "execution_count": 21,
   "metadata": {},
   "outputs": [],
   "source": [
    "people_data['cal_date'] = people_data.created_dt.dt.strftime('%Y-%m-%d')"
   ]
  },
  {
   "cell_type": "markdown",
   "metadata": {},
   "source": [
    "Assuming that each user is a unique constituent (a fair assumption, based on the creation methods of the `people.csv` data), count the number of constituents that share the same date that their records were created."
   ]
  },
  {
   "cell_type": "code",
   "execution_count": 33,
   "metadata": {},
   "outputs": [],
   "source": [
    "# - Group on cal_date (year, month, day)\n",
    "# - Count on 'created_dt' because no NaN values exist in this column\n",
    "acq_data = (people_data.groupby('cal_date')['created_dt']\n",
    "            .count().reset_index()\n",
    "            .rename(columns={'cal_date':'acquision_date', \n",
    "                             'created_dt':'acquisitions'}))"
   ]
  },
  {
   "cell_type": "markdown",
   "metadata": {},
   "source": [
    "## Export to csv"
   ]
  },
  {
   "cell_type": "code",
   "execution_count": 32,
   "metadata": {},
   "outputs": [],
   "source": [
    "acq_data.to_csv('../results/acquision_facts.csv', \n",
    "                header=acq_data.columns.tolist(), \n",
    "                index=False)"
   ]
  }
 ],
 "metadata": {
  "kernelspec": {
   "display_name": "Python 3",
   "language": "python",
   "name": "python3"
  },
  "language_info": {
   "codemirror_mode": {
    "name": "ipython",
    "version": 3
   },
   "file_extension": ".py",
   "mimetype": "text/x-python",
   "name": "python",
   "nbconvert_exporter": "python",
   "pygments_lexer": "ipython3",
   "version": "3.7.6"
  }
 },
 "nbformat": 4,
 "nbformat_minor": 4
}
